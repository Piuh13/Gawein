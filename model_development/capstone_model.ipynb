{
  "cells": [
    {
      "cell_type": "code",
      "execution_count": 1,
      "metadata": {
        "id": "Ll4C8m4TQsyj"
      },
      "outputs": [],
      "source": [
        "import numpy as np\n",
        "import pandas as pd\n",
        "import matplotlib.pyplot as plt\n",
        "import warnings\n",
        "warnings.filterwarnings('ignore')\n",
        "\n",
        "from sklearn.naive_bayes import MultinomialNB\n",
        "from sklearn.multiclass import OneVsRestClassifier\n",
        "from sklearn import metrics\n",
        "from sklearn.metrics import accuracy_score\n",
        "from pandas.plotting import scatter_matrix\n",
        "from sklearn.neighbors import KNeighborsClassifier\n",
        "\n",
        "from sklearn.preprocessing import LabelEncoder\n",
        "from sklearn.model_selection import train_test_split\n",
        "from sklearn.feature_extraction.text import TfidfVectorizer\n",
        "from scipy.sparse import hstack\n",
        "\n",
        "import seaborn as sns\n",
        "import re"
      ]
    },
    {
      "cell_type": "markdown",
      "source": [
        "## Import and Cleaning Dataset"
      ],
      "metadata": {
        "id": "KnzlPR21TiIg"
      }
    },
    {
      "cell_type": "code",
      "execution_count": 2,
      "metadata": {
        "colab": {
          "base_uri": "https://localhost:8080/",
          "height": 276
        },
        "id": "cx5JUWVLQsys",
        "outputId": "8dee7f7d-3390-4c94-fa90-5476be38524a"
      },
      "outputs": [
        {
          "output_type": "error",
          "ename": "ParserError",
          "evalue": "ignored",
          "traceback": [
            "\u001b[0;31m---------------------------------------------------------------------------\u001b[0m",
            "\u001b[0;31mParserError\u001b[0m                               Traceback (most recent call last)",
            "\u001b[0;32m<ipython-input-2-a4aaad5df0df>\u001b[0m in \u001b[0;36m<cell line: 1>\u001b[0;34m()\u001b[0m\n\u001b[0;32m----> 1\u001b[0;31m \u001b[0mresumeDataSet\u001b[0m \u001b[0;34m=\u001b[0m \u001b[0mpd\u001b[0m\u001b[0;34m.\u001b[0m\u001b[0mread_csv\u001b[0m\u001b[0;34m(\u001b[0m\u001b[0;34m'https://github.com/roziqinakhmad14/gawein_capstone_project/blob/main/resume_dataset.csv'\u001b[0m \u001b[0;34m,\u001b[0m\u001b[0mencoding\u001b[0m\u001b[0;34m=\u001b[0m\u001b[0;34m'utf-8'\u001b[0m\u001b[0;34m)\u001b[0m\u001b[0;34m\u001b[0m\u001b[0;34m\u001b[0m\u001b[0m\n\u001b[0m\u001b[1;32m      2\u001b[0m \u001b[0mresumeDataSet\u001b[0m\u001b[0;34m[\u001b[0m\u001b[0;34m'cleaned_resume'\u001b[0m\u001b[0;34m]\u001b[0m \u001b[0;34m=\u001b[0m \u001b[0;34m''\u001b[0m\u001b[0;34m\u001b[0m\u001b[0;34m\u001b[0m\u001b[0m\n\u001b[1;32m      3\u001b[0m \u001b[0mresumeDataSet\u001b[0m\u001b[0;34m.\u001b[0m\u001b[0mhead\u001b[0m\u001b[0;34m(\u001b[0m\u001b[0;34m)\u001b[0m\u001b[0;34m\u001b[0m\u001b[0;34m\u001b[0m\u001b[0m\n",
            "\u001b[0;32m/usr/local/lib/python3.10/dist-packages/pandas/util/_decorators.py\u001b[0m in \u001b[0;36mwrapper\u001b[0;34m(*args, **kwargs)\u001b[0m\n\u001b[1;32m    209\u001b[0m                 \u001b[0;32melse\u001b[0m\u001b[0;34m:\u001b[0m\u001b[0;34m\u001b[0m\u001b[0;34m\u001b[0m\u001b[0m\n\u001b[1;32m    210\u001b[0m                     \u001b[0mkwargs\u001b[0m\u001b[0;34m[\u001b[0m\u001b[0mnew_arg_name\u001b[0m\u001b[0;34m]\u001b[0m \u001b[0;34m=\u001b[0m \u001b[0mnew_arg_value\u001b[0m\u001b[0;34m\u001b[0m\u001b[0;34m\u001b[0m\u001b[0m\n\u001b[0;32m--> 211\u001b[0;31m             \u001b[0;32mreturn\u001b[0m \u001b[0mfunc\u001b[0m\u001b[0;34m(\u001b[0m\u001b[0;34m*\u001b[0m\u001b[0margs\u001b[0m\u001b[0;34m,\u001b[0m \u001b[0;34m**\u001b[0m\u001b[0mkwargs\u001b[0m\u001b[0;34m)\u001b[0m\u001b[0;34m\u001b[0m\u001b[0;34m\u001b[0m\u001b[0m\n\u001b[0m\u001b[1;32m    212\u001b[0m \u001b[0;34m\u001b[0m\u001b[0m\n\u001b[1;32m    213\u001b[0m         \u001b[0;32mreturn\u001b[0m \u001b[0mcast\u001b[0m\u001b[0;34m(\u001b[0m\u001b[0mF\u001b[0m\u001b[0;34m,\u001b[0m \u001b[0mwrapper\u001b[0m\u001b[0;34m)\u001b[0m\u001b[0;34m\u001b[0m\u001b[0;34m\u001b[0m\u001b[0m\n",
            "\u001b[0;32m/usr/local/lib/python3.10/dist-packages/pandas/util/_decorators.py\u001b[0m in \u001b[0;36mwrapper\u001b[0;34m(*args, **kwargs)\u001b[0m\n\u001b[1;32m    329\u001b[0m                     \u001b[0mstacklevel\u001b[0m\u001b[0;34m=\u001b[0m\u001b[0mfind_stack_level\u001b[0m\u001b[0;34m(\u001b[0m\u001b[0;34m)\u001b[0m\u001b[0;34m,\u001b[0m\u001b[0;34m\u001b[0m\u001b[0;34m\u001b[0m\u001b[0m\n\u001b[1;32m    330\u001b[0m                 )\n\u001b[0;32m--> 331\u001b[0;31m             \u001b[0;32mreturn\u001b[0m \u001b[0mfunc\u001b[0m\u001b[0;34m(\u001b[0m\u001b[0;34m*\u001b[0m\u001b[0margs\u001b[0m\u001b[0;34m,\u001b[0m \u001b[0;34m**\u001b[0m\u001b[0mkwargs\u001b[0m\u001b[0;34m)\u001b[0m\u001b[0;34m\u001b[0m\u001b[0;34m\u001b[0m\u001b[0m\n\u001b[0m\u001b[1;32m    332\u001b[0m \u001b[0;34m\u001b[0m\u001b[0m\n\u001b[1;32m    333\u001b[0m         \u001b[0;31m# error: \"Callable[[VarArg(Any), KwArg(Any)], Any]\" has no\u001b[0m\u001b[0;34m\u001b[0m\u001b[0;34m\u001b[0m\u001b[0m\n",
            "\u001b[0;32m/usr/local/lib/python3.10/dist-packages/pandas/io/parsers/readers.py\u001b[0m in \u001b[0;36mread_csv\u001b[0;34m(filepath_or_buffer, sep, delimiter, header, names, index_col, usecols, squeeze, prefix, mangle_dupe_cols, dtype, engine, converters, true_values, false_values, skipinitialspace, skiprows, skipfooter, nrows, na_values, keep_default_na, na_filter, verbose, skip_blank_lines, parse_dates, infer_datetime_format, keep_date_col, date_parser, dayfirst, cache_dates, iterator, chunksize, compression, thousands, decimal, lineterminator, quotechar, quoting, doublequote, escapechar, comment, encoding, encoding_errors, dialect, error_bad_lines, warn_bad_lines, on_bad_lines, delim_whitespace, low_memory, memory_map, float_precision, storage_options)\u001b[0m\n\u001b[1;32m    948\u001b[0m     \u001b[0mkwds\u001b[0m\u001b[0;34m.\u001b[0m\u001b[0mupdate\u001b[0m\u001b[0;34m(\u001b[0m\u001b[0mkwds_defaults\u001b[0m\u001b[0;34m)\u001b[0m\u001b[0;34m\u001b[0m\u001b[0;34m\u001b[0m\u001b[0m\n\u001b[1;32m    949\u001b[0m \u001b[0;34m\u001b[0m\u001b[0m\n\u001b[0;32m--> 950\u001b[0;31m     \u001b[0;32mreturn\u001b[0m \u001b[0m_read\u001b[0m\u001b[0;34m(\u001b[0m\u001b[0mfilepath_or_buffer\u001b[0m\u001b[0;34m,\u001b[0m \u001b[0mkwds\u001b[0m\u001b[0;34m)\u001b[0m\u001b[0;34m\u001b[0m\u001b[0;34m\u001b[0m\u001b[0m\n\u001b[0m\u001b[1;32m    951\u001b[0m \u001b[0;34m\u001b[0m\u001b[0m\n\u001b[1;32m    952\u001b[0m \u001b[0;34m\u001b[0m\u001b[0m\n",
            "\u001b[0;32m/usr/local/lib/python3.10/dist-packages/pandas/io/parsers/readers.py\u001b[0m in \u001b[0;36m_read\u001b[0;34m(filepath_or_buffer, kwds)\u001b[0m\n\u001b[1;32m    609\u001b[0m \u001b[0;34m\u001b[0m\u001b[0m\n\u001b[1;32m    610\u001b[0m     \u001b[0;32mwith\u001b[0m \u001b[0mparser\u001b[0m\u001b[0;34m:\u001b[0m\u001b[0;34m\u001b[0m\u001b[0;34m\u001b[0m\u001b[0m\n\u001b[0;32m--> 611\u001b[0;31m         \u001b[0;32mreturn\u001b[0m \u001b[0mparser\u001b[0m\u001b[0;34m.\u001b[0m\u001b[0mread\u001b[0m\u001b[0;34m(\u001b[0m\u001b[0mnrows\u001b[0m\u001b[0;34m)\u001b[0m\u001b[0;34m\u001b[0m\u001b[0;34m\u001b[0m\u001b[0m\n\u001b[0m\u001b[1;32m    612\u001b[0m \u001b[0;34m\u001b[0m\u001b[0m\n\u001b[1;32m    613\u001b[0m \u001b[0;34m\u001b[0m\u001b[0m\n",
            "\u001b[0;32m/usr/local/lib/python3.10/dist-packages/pandas/io/parsers/readers.py\u001b[0m in \u001b[0;36mread\u001b[0;34m(self, nrows)\u001b[0m\n\u001b[1;32m   1776\u001b[0m                     \u001b[0mcolumns\u001b[0m\u001b[0;34m,\u001b[0m\u001b[0;34m\u001b[0m\u001b[0;34m\u001b[0m\u001b[0m\n\u001b[1;32m   1777\u001b[0m                     \u001b[0mcol_dict\u001b[0m\u001b[0;34m,\u001b[0m\u001b[0;34m\u001b[0m\u001b[0;34m\u001b[0m\u001b[0m\n\u001b[0;32m-> 1778\u001b[0;31m                 \u001b[0;34m)\u001b[0m \u001b[0;34m=\u001b[0m \u001b[0mself\u001b[0m\u001b[0;34m.\u001b[0m\u001b[0m_engine\u001b[0m\u001b[0;34m.\u001b[0m\u001b[0mread\u001b[0m\u001b[0;34m(\u001b[0m  \u001b[0;31m# type: ignore[attr-defined]\u001b[0m\u001b[0;34m\u001b[0m\u001b[0;34m\u001b[0m\u001b[0m\n\u001b[0m\u001b[1;32m   1779\u001b[0m                     \u001b[0mnrows\u001b[0m\u001b[0;34m\u001b[0m\u001b[0;34m\u001b[0m\u001b[0m\n\u001b[1;32m   1780\u001b[0m                 )\n",
            "\u001b[0;32m/usr/local/lib/python3.10/dist-packages/pandas/io/parsers/c_parser_wrapper.py\u001b[0m in \u001b[0;36mread\u001b[0;34m(self, nrows)\u001b[0m\n\u001b[1;32m    228\u001b[0m         \u001b[0;32mtry\u001b[0m\u001b[0;34m:\u001b[0m\u001b[0;34m\u001b[0m\u001b[0;34m\u001b[0m\u001b[0m\n\u001b[1;32m    229\u001b[0m             \u001b[0;32mif\u001b[0m \u001b[0mself\u001b[0m\u001b[0;34m.\u001b[0m\u001b[0mlow_memory\u001b[0m\u001b[0;34m:\u001b[0m\u001b[0;34m\u001b[0m\u001b[0;34m\u001b[0m\u001b[0m\n\u001b[0;32m--> 230\u001b[0;31m                 \u001b[0mchunks\u001b[0m \u001b[0;34m=\u001b[0m \u001b[0mself\u001b[0m\u001b[0;34m.\u001b[0m\u001b[0m_reader\u001b[0m\u001b[0;34m.\u001b[0m\u001b[0mread_low_memory\u001b[0m\u001b[0;34m(\u001b[0m\u001b[0mnrows\u001b[0m\u001b[0;34m)\u001b[0m\u001b[0;34m\u001b[0m\u001b[0;34m\u001b[0m\u001b[0m\n\u001b[0m\u001b[1;32m    231\u001b[0m                 \u001b[0;31m# destructive to chunks\u001b[0m\u001b[0;34m\u001b[0m\u001b[0;34m\u001b[0m\u001b[0m\n\u001b[1;32m    232\u001b[0m                 \u001b[0mdata\u001b[0m \u001b[0;34m=\u001b[0m \u001b[0m_concatenate_chunks\u001b[0m\u001b[0;34m(\u001b[0m\u001b[0mchunks\u001b[0m\u001b[0;34m)\u001b[0m\u001b[0;34m\u001b[0m\u001b[0;34m\u001b[0m\u001b[0m\n",
            "\u001b[0;32m/usr/local/lib/python3.10/dist-packages/pandas/_libs/parsers.pyx\u001b[0m in \u001b[0;36mpandas._libs.parsers.TextReader.read_low_memory\u001b[0;34m()\u001b[0m\n",
            "\u001b[0;32m/usr/local/lib/python3.10/dist-packages/pandas/_libs/parsers.pyx\u001b[0m in \u001b[0;36mpandas._libs.parsers.TextReader._read_rows\u001b[0;34m()\u001b[0m\n",
            "\u001b[0;32m/usr/local/lib/python3.10/dist-packages/pandas/_libs/parsers.pyx\u001b[0m in \u001b[0;36mpandas._libs.parsers.TextReader._tokenize_rows\u001b[0;34m()\u001b[0m\n",
            "\u001b[0;32m/usr/local/lib/python3.10/dist-packages/pandas/_libs/parsers.pyx\u001b[0m in \u001b[0;36mpandas._libs.parsers.raise_parser_error\u001b[0;34m()\u001b[0m\n",
            "\u001b[0;31mParserError\u001b[0m: Error tokenizing data. C error: Expected 1 fields in line 29, saw 367\n"
          ]
        }
      ],
      "source": [
        "resumeDataSet = pd.read_csv('resume_dataset.csv' ,encoding='utf-8')\n",
        "resumeDataSet['cleaned_resume'] = ''\n",
        "resumeDataSet.head()"
      ]
    },
    {
      "cell_type": "code",
      "source": [
        "def cleanResume(resumeText):\n",
        "    resumeText = re.sub('http\\S+\\s*', ' ', resumeText)  # remove URLs\n",
        "    resumeText = re.sub('RT|cc', ' ', resumeText)  # remove RT and cc\n",
        "    resumeText = re.sub('#\\S+', '', resumeText)  # remove hashtags\n",
        "    resumeText = re.sub('@\\S+', '  ', resumeText)  # remove mentions\n",
        "    resumeText = re.sub('[%s]' % re.escape(\"\"\"!\"#$%&'()*+,-./:;<=>?@[\\]^_`{|}~\"\"\"), ' ', resumeText)  # remove punctuations\n",
        "    resumeText = re.sub(r'[^\\x00-\\x7f]',r' ', resumeText)\n",
        "    resumeText = re.sub('\\s+', ' ', resumeText)  # remove extra whitespace\n",
        "    return resumeText\n",
        "\n",
        "resumeDataSet['cleaned_resume'] = resumeDataSet.Resume.apply(lambda x: cleanResume(x))"
      ],
      "metadata": {
        "id": "lYK7s_lhS8Ai"
      },
      "execution_count": 5,
      "outputs": []
    },
    {
      "cell_type": "markdown",
      "source": [
        "## Vectorize Word"
      ],
      "metadata": {
        "id": "hvwwG7SVTukJ"
      }
    },
    {
      "cell_type": "code",
      "execution_count": 6,
      "metadata": {
        "colab": {
          "base_uri": "https://localhost:8080/"
        },
        "id": "WunyIPxAQsyy",
        "outputId": "265ce729-1881-434d-cce2-35567a4acb8d"
      },
      "outputs": [
        {
          "output_type": "stream",
          "name": "stdout",
          "text": [
            "Feature completed .....\n",
            "(135, 1500)\n",
            "(34, 1500)\n"
          ]
        }
      ],
      "source": [
        "requiredText = resumeDataSet['cleaned_resume'].values\n",
        "requiredTarget = resumeDataSet['Category'].values\n",
        "\n",
        "word_vectorizer = TfidfVectorizer(\n",
        "    sublinear_tf=True,\n",
        "    stop_words='english',\n",
        "    max_features=1500)\n",
        "word_vectorizer.fit(requiredText)\n",
        "WordFeatures = word_vectorizer.transform(requiredText)\n",
        "\n",
        "print (\"Feature completed .....\")\n",
        "\n",
        "X_train,X_test,y_train,y_test = train_test_split(WordFeatures,requiredTarget,random_state=0, test_size=0.2)\n",
        "print(X_train.shape)\n",
        "print(X_test.shape)"
      ]
    },
    {
      "cell_type": "markdown",
      "source": [
        "## KNN"
      ],
      "metadata": {
        "id": "lfNnH_SIT2rw"
      }
    },
    {
      "cell_type": "code",
      "execution_count": 7,
      "metadata": {
        "colab": {
          "base_uri": "https://localhost:8080/"
        },
        "id": "dzldyar1Qsyz",
        "outputId": "2302490f-3f51-4959-ef06-33705be4a4da"
      },
      "outputs": [
        {
          "output_type": "stream",
          "name": "stdout",
          "text": [
            "Accuracy of KNeighbors Classifier on training set: 0.88\n",
            "Accuracy of KNeighbors Classifier on test set: 0.79\n",
            "\n",
            " Classification report for classifier OneVsRestClassifier(estimator=KNeighborsClassifier()):\n",
            "                           precision    recall  f1-score   support\n",
            "\n",
            "                 Advocate       1.00      1.00      1.00         1\n",
            "                     Arts       0.00      0.00      0.00         1\n",
            "       Automation Testing       1.00      0.50      0.67         2\n",
            "               Blockchain       1.00      1.00      1.00         1\n",
            "           Civil Engineer       1.00      1.00      1.00         1\n",
            "             Data Science       1.00      1.00      1.00         3\n",
            "                 Database       0.50      1.00      0.67         1\n",
            "         DotNet Developer       1.00      1.00      1.00         4\n",
            "   Electrical Engineering       1.00      0.33      0.50         3\n",
            "                   Hadoop       1.00      1.00      1.00         2\n",
            "       Health and fitness       1.00      0.67      0.80         3\n",
            "           Java Developer       1.00      1.00      1.00         2\n",
            "      Mechanical Engineer       1.00      1.00      1.00         1\n",
            "Network Security Engineer       1.00      0.50      0.67         2\n",
            "       Operations Manager       0.00      0.00      0.00         0\n",
            "                      PMO       0.00      0.00      0.00         0\n",
            "         Python Developer       0.75      1.00      0.86         3\n",
            "            SAP Developer       1.00      1.00      1.00         1\n",
            "                    Sales       1.00      1.00      1.00         1\n",
            "                  Testing       0.00      0.00      0.00         1\n",
            "            Web Designing       1.00      1.00      1.00         1\n",
            "\n",
            "                 accuracy                           0.79        34\n",
            "                macro avg       0.77      0.71      0.72        34\n",
            "             weighted avg       0.90      0.79      0.82        34\n",
            "\n",
            "\n"
          ]
        }
      ],
      "source": [
        "clf = OneVsRestClassifier(KNeighborsClassifier())\n",
        "clf.fit(X_train, y_train)\n",
        "prediction = clf.predict(X_test)\n",
        "print('Accuracy of KNeighbors Classifier on training set: {:.2f}'.format(clf.score(X_train, y_train)))\n",
        "print('Accuracy of KNeighbors Classifier on test set: {:.2f}'.format(clf.score(X_test, y_test)))\n",
        "\n",
        "print(\"\\n Classification report for classifier %s:\\n%s\\n\" % (clf, metrics.classification_report(y_test, prediction)))"
      ]
    },
    {
      "cell_type": "code",
      "source": [
        "import pickle\n",
        "\n",
        "with open('model_pkl', 'wb') as f:\n",
        "  pickle.dump(clf, f)"
      ],
      "metadata": {
        "id": "WFRxI5I2r6lN"
      },
      "execution_count": 8,
      "outputs": []
    },
    {
      "cell_type": "code",
      "source": [
        "with open('model_pkl', 'rb') as f:\n",
        "  clf2 = pickle.load(f)"
      ],
      "metadata": {
        "id": "4y4AaGaj3SCH"
      },
      "execution_count": 9,
      "outputs": []
    },
    {
      "cell_type": "code",
      "source": [
        "sample = requiredText[30]\n",
        "sample"
      ],
      "metadata": {
        "colab": {
          "base_uri": "https://localhost:8080/",
          "height": 0
        },
        "id": "nmMBpgCDtmzi",
        "outputId": "e2349e17-e40a-437d-f618-27297c4226a6"
      },
      "execution_count": 10,
      "outputs": [
        {
          "output_type": "execute_result",
          "data": {
            "text/plain": [
              "' Hard working Quick learnerEducation Details June 2014 to May 2017 LLB LAW Mumbai Maharashtra mumbai university January 2014 B Com Commerce Mumbai Maharashtra Mumbai university January 2011 HSC Maharashtra board January 2009 SSC Maharashtra boardAdvocateSkill Details Company Details company The vidishtra description '"
            ],
            "application/vnd.google.colaboratory.intrinsic+json": {
              "type": "string"
            }
          },
          "metadata": {},
          "execution_count": 10
        }
      ]
    },
    {
      "cell_type": "code",
      "source": [
        "feature = word_vectorizer.transform([sample])"
      ],
      "metadata": {
        "id": "1MBiAEPxt2B-"
      },
      "execution_count": 11,
      "outputs": []
    },
    {
      "cell_type": "code",
      "source": [
        "clf.predict(feature)"
      ],
      "metadata": {
        "colab": {
          "base_uri": "https://localhost:8080/"
        },
        "id": "fIgGpwdLt70P",
        "outputId": "dd397ee8-289f-4dbd-96b9-464ce2781bbc"
      },
      "execution_count": 12,
      "outputs": [
        {
          "output_type": "execute_result",
          "data": {
            "text/plain": [
              "array(['Arts'], dtype='<U25')"
            ]
          },
          "metadata": {},
          "execution_count": 12
        }
      ]
    },
    {
      "cell_type": "code",
      "source": [
        "requiredTarget[30]"
      ],
      "metadata": {
        "colab": {
          "base_uri": "https://localhost:8080/",
          "height": 0
        },
        "id": "hLfVp_rtt9q8",
        "outputId": "6d44ec24-d16d-4082-cfca-04355c000d40"
      },
      "execution_count": 13,
      "outputs": [
        {
          "output_type": "execute_result",
          "data": {
            "text/plain": [
              "'Advocate'"
            ],
            "application/vnd.google.colaboratory.intrinsic+json": {
              "type": "string"
            }
          },
          "metadata": {},
          "execution_count": 13
        }
      ]
    },
    {
      "cell_type": "code",
      "source": [
        "with open('vectorizer_pkl', 'wb') as f:\n",
        "  pickle.dump(word_vectorizer, f)"
      ],
      "metadata": {
        "id": "Q_GC-FQtuB-E"
      },
      "execution_count": 14,
      "outputs": []
    },
    {
      "cell_type": "code",
      "source": [
        "with open('vectorizer_pkl', 'rb') as f:\n",
        "  v = pickle.load(f)"
      ],
      "metadata": {
        "id": "CYzQ1LrAxGWd"
      },
      "execution_count": 15,
      "outputs": []
    },
    {
      "cell_type": "code",
      "source": [
        "clf.predict(v.transform([sample]))[0]"
      ],
      "metadata": {
        "colab": {
          "base_uri": "https://localhost:8080/",
          "height": 0
        },
        "id": "YpaHn5aHxRDy",
        "outputId": "2fa456c2-5f43-47fb-ad85-2ffea0f4c5d4"
      },
      "execution_count": 16,
      "outputs": [
        {
          "output_type": "execute_result",
          "data": {
            "text/plain": [
              "'Arts'"
            ],
            "application/vnd.google.colaboratory.intrinsic+json": {
              "type": "string"
            }
          },
          "metadata": {},
          "execution_count": 16
        }
      ]
    },
    {
      "cell_type": "code",
      "source": [],
      "metadata": {
        "id": "SHYmDbtTxWA1"
      },
      "execution_count": 16,
      "outputs": []
    },
    {
      "cell_type": "markdown",
      "source": [
        "## Model Development using Tensorflow"
      ],
      "metadata": {
        "id": "6-6ydieTTCsq"
      }
    },
    {
      "cell_type": "code",
      "source": [
        "import tensorflow as tf\n",
        "from tensorflow.keras.models import Sequential\n",
        "from tensorflow.keras.utils import to_categorical\n",
        "from tensorflow.keras.preprocessing.text import Tokenizer\n",
        "from tensorflow.keras.preprocessing.sequence import pad_sequences\n",
        "from tensorflow.keras.layers import Embedding, LSTM, Dense, Bidirectional, GlobalAveragePooling1D"
      ],
      "metadata": {
        "id": "LG1soYgjcFRo"
      },
      "execution_count": 17,
      "outputs": []
    },
    {
      "cell_type": "code",
      "source": [
        "# Ambil data dan encode label\n",
        "data = resumeDataSet['cleaned_resume']\n",
        "labels = resumeDataSet['Category']\n",
        "\n",
        "le = LabelEncoder()\n",
        "labels = le.fit_transform(labels)\n",
        "\n",
        "labels = to_categorical(labels, 25)"
      ],
      "metadata": {
        "id": "bvlrKK0lTE60"
      },
      "execution_count": 18,
      "outputs": []
    },
    {
      "cell_type": "code",
      "source": [
        "# split data\n",
        "training_size = 135\n",
        "\n",
        "# Split the data\n",
        "training_data = data[0:training_size]\n",
        "testing_data = data[training_size:]\n",
        "\n",
        "# Split the labels\n",
        "training_labels = labels[0:training_size]\n",
        "testing_labels = labels[training_size:]"
      ],
      "metadata": {
        "id": "2S3RWLO-Tvce"
      },
      "execution_count": 19,
      "outputs": []
    },
    {
      "cell_type": "code",
      "source": [
        "vocab_size = 10000\n",
        "max_length = 500\n",
        "trunc_type='post'\n",
        "padding_type='post'\n",
        "oov_tok = \"<OOV>\"\n",
        "\n",
        "# Initialize the Tokenizer class\n",
        "tokenizer = Tokenizer(num_words=vocab_size, oov_token=oov_tok)\n",
        "\n",
        "# Generate the word index dictionary\n",
        "tokenizer.fit_on_texts(training_data)\n",
        "word_index = tokenizer.word_index\n",
        "\n",
        "# Generate and pad the training sequences\n",
        "training_sequences = tokenizer.texts_to_sequences(training_data)\n",
        "training_padded = pad_sequences(training_sequences, maxlen=max_length, padding=padding_type, truncating=trunc_type)\n",
        "\n",
        "# Generate and pad the testing sequences\n",
        "testing_sequences = tokenizer.texts_to_sequences(testing_data)\n",
        "testing_padded = pad_sequences(testing_sequences, maxlen=max_length, padding=padding_type, truncating=trunc_type)\n",
        "\n",
        "# Convert the labels lists into numpy arrays\n",
        "training_labels = np.array(training_labels)\n",
        "testing_labels = np.array(testing_labels)"
      ],
      "metadata": {
        "id": "bn9_MgPtVHUT"
      },
      "execution_count": 20,
      "outputs": []
    },
    {
      "cell_type": "code",
      "source": [
        "training_padded[0]"
      ],
      "metadata": {
        "colab": {
          "base_uri": "https://localhost:8080/"
        },
        "id": "ErySY8w0WRjJ",
        "outputId": "bc1b1fb5-b4e7-439b-b21c-5e7eac73c35f"
      },
      "execution_count": 21,
      "outputs": [
        {
          "output_type": "execute_result",
          "data": {
            "text/plain": [
              "array([  44,  253,  307,   73, 1117,  805, 2648, 1461,  609, 1462,   34,\n",
              "         46,  181,  200,  141,  128,  308, 1270, 2033, 2649, 2650, 1698,\n",
              "       2651, 3784,  570, 3785, 3786,  806,  740,  106,  571, 2652,  897,\n",
              "        106, 1118,  467,  468, 2653, 1699, 1119,  807, 2654, 2655, 3787,\n",
              "        687, 3788,   27, 2656,  114, 2034, 3789, 3790, 3791, 2657,  469,\n",
              "       1700,  469, 3792, 2035, 1462, 3793,  637, 1271,  470, 3794,  195,\n",
              "        377,  610,   24, 3795, 3796,   73, 1701,  638, 3797,  104, 1702,\n",
              "        688, 1703,    2,  233,    4,  471,  128,   51,   14,   22,  100,\n",
              "        995, 3798,  100,  995, 1704, 2036, 1705, 3799,   14,  181,   10,\n",
              "        165,   15,  200,   10,  165,   15,   73,   10,  165,   64,   14,\n",
              "          9, 2036, 1705, 1463,   13, 1120, 2658,    2, 3800,   65,  995,\n",
              "        117, 2037,  215, 2659,  117, 2037,  215, 2038,    6,   11, 3801,\n",
              "          3,  215,   76,    2, 1706,  254,    2,  409,   60,  266,  808,\n",
              "          4,   11,   20, 2660,    6,  176,  410,  215,  255,  221,   36,\n",
              "       2661,    7,  809,  115, 3802,  530,  120,  221, 3803,  898, 1707,\n",
              "          2, 1119,  807,   39, 1272,  572, 3804,    6, 3805, 2039,  996,\n",
              "          2,   87, 2662,  309,    3, 3806,  215,  310,    3,  118,    5,\n",
              "        118,  297,    4,    3,  226, 1464,  345,    2,   37,    7, 1273,\n",
              "        411,  898,  106,    2, 2663,    4,    3,  124,  573,    6,  363,\n",
              "         22,  101,   16,  364,    3, 3807,    2, 3808,  147,    7,    3,\n",
              "        392,  221, 2659, 2038,    6,  898, 1707, 1119,  807,   36,    3,\n",
              "       2040,   39,  574, 3809,  500,  182,    3, 1121,  411,    6,  211,\n",
              "          5,  393, 2664, 3810,    2, 1120,  133,   75,  129,   67,   73,\n",
              "       1461,  609, 3811, 3812, 3813, 2665, 2041, 2033, 2649, 2650, 2654,\n",
              "       2655,    7, 1119,  807, 3814,    2,  363, 3815,    7,  897,  106,\n",
              "       3816, 3817,  637,  639,    7,  148,  279,   22,  100,    2, 1708,\n",
              "         94,  899,  156,  363,  254,  810, 3818,   66,  215,   22, 1274,\n",
              "         66, 1122, 1275,   22,    7, 1465,  298,   23,  280,  897,  811,\n",
              "       2042, 2666,    2,   87,  900,  106,   16,   66, 1123,  285,   35,\n",
              "        110,  901,  289, 2043,  812,    4, 1276,   39, 1275, 3819,  111,\n",
              "         16, 2044,    4, 1709, 1710,  811,    2, 2042, 1709,  285,   35,\n",
              "          3, 1275,  901,    2, 3820,  571,  323,  289,  997,  637,  998,\n",
              "          7,  412,  148,    2, 2656, 2667,  182,   11,   91, 1277, 2667,\n",
              "          7,  298,    4,  813,  243,  123,  741, 1466, 1278,  256, 1124,\n",
              "          4,  501, 3821, 2045,    2,  689,   16,  120, 1125, 1467, 3822,\n",
              "        392,  299,  133, 1278, 1279, 2668,    4,  221,  742,  290,  255,\n",
              "          2,  188, 1126, 3823, 1468,  689,   79,   91, 2669,    5,  335,\n",
              "        902,    4,  743, 2046,  120, 3824,  336,  611,    5,  335,    3,\n",
              "       3825,    4, 1278,   17,  119,   91,  112,    2, 3826,    3,  743,\n",
              "       2670, 1278,  129,   67,   73, 1118,  467,  468, 2671, 3827, 1119,\n",
              "        807,  897,  106,  571, 2652, 1461,  609,  181,  200, 2034,  124,\n",
              "       1469, 1470,    5,  394, 2047, 2048,  256,   35,    4,    3,  124,\n",
              "        472, 2672,    3, 1127,  124, 1469, 2673, 3828,  611,  285, 2049,\n",
              "         22, 1471,    2, 3829,  999,    5,  138, 1470,   81,  413, 3830,\n",
              "          5, 3831,  124,  324, 2674,   22,   36,  279, 1471,    4, 1000,\n",
              "          2, 3832,  144,  414, 1000], dtype=int32)"
            ]
          },
          "metadata": {},
          "execution_count": 21
        }
      ]
    },
    {
      "cell_type": "code",
      "source": [
        "# Parameters\n",
        "embedding_dim = 100\n",
        "lstm_dim = 100\n",
        "dense_dim = 100\n",
        "\n",
        "# Model Definition with LSTM\n",
        "model_lstm = tf.keras.Sequential([\n",
        "    tf.keras.layers.Embedding(vocab_size, embedding_dim, input_length=max_length),\n",
        "    tf.keras.layers.Bidirectional(tf.keras.layers.LSTM(lstm_dim)),\n",
        "    tf.keras.layers.Dense(dense_dim, activation='relu'),\n",
        "    tf.keras.layers.Dense(25, activation='softmax')\n",
        "])\n",
        "\n",
        "# Set the training parameters\n",
        "model_lstm.compile(loss='categorical_crossentropy', optimizer='adam', metrics=['accuracy'])\n",
        "\n",
        "# Print the model summary\n",
        "model_lstm.summary()"
      ],
      "metadata": {
        "colab": {
          "base_uri": "https://localhost:8080/"
        },
        "id": "2paWsDzRV1eg",
        "outputId": "6cfc9b85-f78c-4eaa-9166-5d2e9cc36d8c"
      },
      "execution_count": 22,
      "outputs": [
        {
          "output_type": "stream",
          "name": "stdout",
          "text": [
            "Model: \"sequential\"\n",
            "_________________________________________________________________\n",
            " Layer (type)                Output Shape              Param #   \n",
            "=================================================================\n",
            " embedding (Embedding)       (None, 500, 100)          1000000   \n",
            "                                                                 \n",
            " bidirectional (Bidirectiona  (None, 200)              160800    \n",
            " l)                                                              \n",
            "                                                                 \n",
            " dense (Dense)               (None, 100)               20100     \n",
            "                                                                 \n",
            " dense_1 (Dense)             (None, 25)                2525      \n",
            "                                                                 \n",
            "=================================================================\n",
            "Total params: 1,183,425\n",
            "Trainable params: 1,183,425\n",
            "Non-trainable params: 0\n",
            "_________________________________________________________________\n"
          ]
        }
      ]
    },
    {
      "cell_type": "code",
      "source": [
        "NUM_EPOCHS = 50\n",
        "\n",
        "# Train the model\n",
        "history_lstm = model_lstm.fit(training_padded, training_labels, epochs=NUM_EPOCHS, validation_data=(testing_padded, testing_labels))"
      ],
      "metadata": {
        "colab": {
          "base_uri": "https://localhost:8080/"
        },
        "id": "luX5MO2JV3e2",
        "outputId": "a7914e40-560a-49a3-e552-5079a2195414"
      },
      "execution_count": 23,
      "outputs": [
        {
          "output_type": "stream",
          "name": "stdout",
          "text": [
            "Epoch 1/50\n",
            "5/5 [==============================] - 10s 1s/step - loss: 3.2155 - accuracy: 0.0370 - val_loss: 3.2599 - val_accuracy: 0.0000e+00\n",
            "Epoch 2/50\n",
            "5/5 [==============================] - 5s 944ms/step - loss: 3.1768 - accuracy: 0.1333 - val_loss: 3.3774 - val_accuracy: 0.0000e+00\n",
            "Epoch 3/50\n",
            "5/5 [==============================] - 4s 813ms/step - loss: 3.0816 - accuracy: 0.1037 - val_loss: 3.9040 - val_accuracy: 0.0000e+00\n",
            "Epoch 4/50\n",
            "5/5 [==============================] - 5s 1s/step - loss: 2.9750 - accuracy: 0.1407 - val_loss: 4.0371 - val_accuracy: 0.0000e+00\n",
            "Epoch 5/50\n",
            "5/5 [==============================] - 5s 812ms/step - loss: 2.9210 - accuracy: 0.2074 - val_loss: 4.5824 - val_accuracy: 0.0000e+00\n",
            "Epoch 6/50\n",
            "5/5 [==============================] - 4s 826ms/step - loss: 2.8567 - accuracy: 0.1556 - val_loss: 4.5831 - val_accuracy: 0.0294\n",
            "Epoch 7/50\n",
            "5/5 [==============================] - 5s 1s/step - loss: 2.7394 - accuracy: 0.1630 - val_loss: 4.6840 - val_accuracy: 0.0294\n",
            "Epoch 8/50\n",
            "5/5 [==============================] - 4s 819ms/step - loss: 2.6132 - accuracy: 0.2074 - val_loss: 5.2311 - val_accuracy: 0.0000e+00\n",
            "Epoch 9/50\n",
            "5/5 [==============================] - 4s 823ms/step - loss: 2.4863 - accuracy: 0.2444 - val_loss: 5.1981 - val_accuracy: 0.0294\n",
            "Epoch 10/50\n",
            "5/5 [==============================] - 6s 1s/step - loss: 2.3037 - accuracy: 0.2815 - val_loss: 6.6914 - val_accuracy: 0.0000e+00\n",
            "Epoch 11/50\n",
            "5/5 [==============================] - 4s 832ms/step - loss: 2.2252 - accuracy: 0.2741 - val_loss: 6.1648 - val_accuracy: 0.0294\n",
            "Epoch 12/50\n",
            "5/5 [==============================] - 5s 956ms/step - loss: 2.1344 - accuracy: 0.2889 - val_loss: 6.5099 - val_accuracy: 0.0294\n",
            "Epoch 13/50\n",
            "5/5 [==============================] - 6s 1s/step - loss: 1.9384 - accuracy: 0.3778 - val_loss: 6.4940 - val_accuracy: 0.0294\n",
            "Epoch 14/50\n",
            "5/5 [==============================] - 5s 932ms/step - loss: 1.7301 - accuracy: 0.4148 - val_loss: 7.1410 - val_accuracy: 0.0294\n",
            "Epoch 15/50\n",
            "5/5 [==============================] - 8s 1s/step - loss: 1.5690 - accuracy: 0.4296 - val_loss: 7.5807 - val_accuracy: 0.0000e+00\n",
            "Epoch 16/50\n",
            "5/5 [==============================] - 4s 825ms/step - loss: 1.5207 - accuracy: 0.5481 - val_loss: 7.9530 - val_accuracy: 0.0000e+00\n",
            "Epoch 17/50\n",
            "5/5 [==============================] - 4s 830ms/step - loss: 1.3107 - accuracy: 0.5926 - val_loss: 7.2080 - val_accuracy: 0.0000e+00\n",
            "Epoch 18/50\n",
            "5/5 [==============================] - 6s 1s/step - loss: 1.2131 - accuracy: 0.6444 - val_loss: 7.2518 - val_accuracy: 0.0000e+00\n",
            "Epoch 19/50\n",
            "5/5 [==============================] - 4s 814ms/step - loss: 1.0617 - accuracy: 0.6815 - val_loss: 7.9098 - val_accuracy: 0.0000e+00\n",
            "Epoch 20/50\n",
            "5/5 [==============================] - 4s 843ms/step - loss: 0.9507 - accuracy: 0.7259 - val_loss: 9.1625 - val_accuracy: 0.0000e+00\n",
            "Epoch 21/50\n",
            "5/5 [==============================] - 5s 896ms/step - loss: 0.7779 - accuracy: 0.8222 - val_loss: 9.5264 - val_accuracy: 0.0000e+00\n",
            "Epoch 22/50\n",
            "5/5 [==============================] - 4s 826ms/step - loss: 0.7697 - accuracy: 0.7704 - val_loss: 8.9856 - val_accuracy: 0.0000e+00\n",
            "Epoch 23/50\n",
            "5/5 [==============================] - 5s 1s/step - loss: 0.6999 - accuracy: 0.8519 - val_loss: 8.9062 - val_accuracy: 0.0000e+00\n",
            "Epoch 24/50\n",
            "5/5 [==============================] - 4s 836ms/step - loss: 0.5902 - accuracy: 0.8741 - val_loss: 9.7213 - val_accuracy: 0.0000e+00\n",
            "Epoch 25/50\n",
            "5/5 [==============================] - 4s 822ms/step - loss: 0.4960 - accuracy: 0.8815 - val_loss: 10.0510 - val_accuracy: 0.0000e+00\n",
            "Epoch 26/50\n",
            "5/5 [==============================] - 5s 1s/step - loss: 0.4004 - accuracy: 0.9333 - val_loss: 10.7399 - val_accuracy: 0.0000e+00\n",
            "Epoch 27/50\n",
            "5/5 [==============================] - 4s 858ms/step - loss: 0.3149 - accuracy: 0.9630 - val_loss: 11.3050 - val_accuracy: 0.0000e+00\n",
            "Epoch 28/50\n",
            "5/5 [==============================] - 4s 848ms/step - loss: 0.2686 - accuracy: 0.9630 - val_loss: 11.9963 - val_accuracy: 0.0000e+00\n",
            "Epoch 29/50\n",
            "5/5 [==============================] - 5s 954ms/step - loss: 0.2161 - accuracy: 0.9852 - val_loss: 11.4103 - val_accuracy: 0.0000e+00\n",
            "Epoch 30/50\n",
            "5/5 [==============================] - 4s 841ms/step - loss: 0.2039 - accuracy: 0.9852 - val_loss: 11.4395 - val_accuracy: 0.0000e+00\n",
            "Epoch 31/50\n",
            "5/5 [==============================] - 5s 984ms/step - loss: 0.1867 - accuracy: 0.9852 - val_loss: 11.7631 - val_accuracy: 0.0294\n",
            "Epoch 32/50\n",
            "5/5 [==============================] - 4s 834ms/step - loss: 0.1466 - accuracy: 0.9926 - val_loss: 11.8980 - val_accuracy: 0.0000e+00\n",
            "Epoch 33/50\n",
            "5/5 [==============================] - 4s 824ms/step - loss: 0.1328 - accuracy: 0.9852 - val_loss: 12.2983 - val_accuracy: 0.0000e+00\n",
            "Epoch 34/50\n",
            "5/5 [==============================] - 5s 1s/step - loss: 0.1048 - accuracy: 0.9926 - val_loss: 13.0343 - val_accuracy: 0.0000e+00\n",
            "Epoch 35/50\n",
            "5/5 [==============================] - 4s 850ms/step - loss: 0.0934 - accuracy: 0.9926 - val_loss: 12.8199 - val_accuracy: 0.0000e+00\n",
            "Epoch 36/50\n",
            "5/5 [==============================] - 4s 836ms/step - loss: 0.0871 - accuracy: 0.9926 - val_loss: 12.9368 - val_accuracy: 0.0000e+00\n",
            "Epoch 37/50\n",
            "5/5 [==============================] - 5s 1s/step - loss: 0.0692 - accuracy: 0.9926 - val_loss: 12.5344 - val_accuracy: 0.0000e+00\n",
            "Epoch 38/50\n",
            "5/5 [==============================] - 4s 860ms/step - loss: 0.0711 - accuracy: 0.9926 - val_loss: 12.7184 - val_accuracy: 0.0000e+00\n",
            "Epoch 39/50\n",
            "5/5 [==============================] - 5s 1s/step - loss: 0.0694 - accuracy: 0.9926 - val_loss: 13.2898 - val_accuracy: 0.0000e+00\n",
            "Epoch 40/50\n",
            "5/5 [==============================] - 4s 831ms/step - loss: 0.0788 - accuracy: 0.9778 - val_loss: 12.0377 - val_accuracy: 0.0000e+00\n",
            "Epoch 41/50\n",
            "5/5 [==============================] - 4s 816ms/step - loss: 0.0927 - accuracy: 0.9778 - val_loss: 12.5929 - val_accuracy: 0.0000e+00\n",
            "Epoch 42/50\n",
            "5/5 [==============================] - 5s 1s/step - loss: 0.0608 - accuracy: 0.9926 - val_loss: 12.9854 - val_accuracy: 0.0000e+00\n",
            "Epoch 43/50\n",
            "5/5 [==============================] - 4s 839ms/step - loss: 0.0477 - accuracy: 0.9926 - val_loss: 13.0696 - val_accuracy: 0.0000e+00\n",
            "Epoch 44/50\n",
            "5/5 [==============================] - 4s 850ms/step - loss: 0.0492 - accuracy: 0.9852 - val_loss: 12.9168 - val_accuracy: 0.0000e+00\n",
            "Epoch 45/50\n",
            "5/5 [==============================] - 5s 1s/step - loss: 0.0769 - accuracy: 0.9778 - val_loss: 12.6779 - val_accuracy: 0.0000e+00\n",
            "Epoch 46/50\n",
            "5/5 [==============================] - 4s 813ms/step - loss: 0.0494 - accuracy: 1.0000 - val_loss: 12.7839 - val_accuracy: 0.0000e+00\n",
            "Epoch 47/50\n",
            "5/5 [==============================] - 5s 997ms/step - loss: 0.0462 - accuracy: 1.0000 - val_loss: 13.3087 - val_accuracy: 0.0000e+00\n",
            "Epoch 48/50\n",
            "5/5 [==============================] - 4s 822ms/step - loss: 0.0320 - accuracy: 1.0000 - val_loss: 13.5850 - val_accuracy: 0.0000e+00\n",
            "Epoch 49/50\n",
            "5/5 [==============================] - 4s 824ms/step - loss: 0.0272 - accuracy: 1.0000 - val_loss: 13.5913 - val_accuracy: 0.0000e+00\n",
            "Epoch 50/50\n",
            "5/5 [==============================] - 5s 1s/step - loss: 0.0238 - accuracy: 1.0000 - val_loss: 13.5839 - val_accuracy: 0.0000e+00\n"
          ]
        }
      ]
    },
    {
      "cell_type": "code",
      "source": [
        "prediksi = model_lstm.predict(testing_padded)"
      ],
      "metadata": {
        "colab": {
          "base_uri": "https://localhost:8080/"
        },
        "id": "iD8AbwovxD4x",
        "outputId": "78c6f71b-829a-417d-8348-3f15685866ff"
      },
      "execution_count": 24,
      "outputs": [
        {
          "output_type": "stream",
          "name": "stdout",
          "text": [
            "2/2 [==============================] - 1s 84ms/step\n"
          ]
        }
      ]
    },
    {
      "cell_type": "code",
      "source": [
        "prediksi[0]"
      ],
      "metadata": {
        "colab": {
          "base_uri": "https://localhost:8080/"
        },
        "id": "E5PO89ssyNvV",
        "outputId": "91ceee85-b0b0-4a46-e261-382e1b75ef72"
      },
      "execution_count": 25,
      "outputs": [
        {
          "output_type": "execute_result",
          "data": {
            "text/plain": [
              "array([2.54785100e-05, 1.05231295e-04, 2.96918879e-04, 5.97009659e-07,\n",
              "       9.39074438e-04, 8.20373818e-02, 5.14496758e-04, 1.43140424e-02,\n",
              "       4.16411683e-02, 2.77302483e-08, 1.54275503e-09, 7.02387318e-02,\n",
              "       6.90898742e-05, 3.04471115e-07, 8.19922483e-04, 2.25306638e-02,\n",
              "       5.28381788e-05, 1.44867081e-05, 5.18996217e-07, 5.65519382e-04,\n",
              "       1.07761263e-03, 6.15180075e-01, 8.87991413e-02, 1.23808121e-07,\n",
              "       6.07765764e-02], dtype=float32)"
            ]
          },
          "metadata": {},
          "execution_count": 25
        }
      ]
    },
    {
      "cell_type": "code",
      "source": [
        "model_lstm.predict(testing_padded[0].reshape(1, 500))"
      ],
      "metadata": {
        "colab": {
          "base_uri": "https://localhost:8080/"
        },
        "id": "AX_ogo4T0VwO",
        "outputId": "12a7bd52-454f-4d12-9550-e31e471c978c"
      },
      "execution_count": 31,
      "outputs": [
        {
          "output_type": "stream",
          "name": "stdout",
          "text": [
            "1/1 [==============================] - 0s 71ms/step\n"
          ]
        },
        {
          "output_type": "execute_result",
          "data": {
            "text/plain": [
              "array([[2.5478532e-05, 1.0523138e-04, 2.9691856e-04, 5.9700960e-07,\n",
              "        9.3907438e-04, 8.2037374e-02, 5.1449670e-04, 1.4314052e-02,\n",
              "        4.1641124e-02, 2.7730193e-08, 1.5427548e-09, 7.0238613e-02,\n",
              "        6.9089736e-05, 3.0447109e-07, 8.1992318e-04, 2.2530630e-02,\n",
              "        5.2838273e-05, 1.4486679e-05, 5.1899667e-07, 5.6551909e-04,\n",
              "        1.0776136e-03, 6.1518002e-01, 8.8799275e-02, 1.2380823e-07,\n",
              "        6.0776625e-02]], dtype=float32)"
            ]
          },
          "metadata": {},
          "execution_count": 31
        }
      ]
    },
    {
      "cell_type": "code",
      "source": [
        "model_lstm.save('model_lstm.h5')"
      ],
      "metadata": {
        "id": "c-W1ffwd0Zez"
      },
      "execution_count": 32,
      "outputs": []
    },
    {
      "cell_type": "code",
      "source": [],
      "metadata": {
        "id": "EqM9--6GEXxW"
      },
      "execution_count": null,
      "outputs": []
    }
  ],
  "metadata": {
    "interpreter": {
      "hash": "ac59ebe37160ed0dfa835113d9b8498d9f09ceb179beaac4002f036b9467c963"
    },
    "kernelspec": {
      "display_name": "Python 3",
      "language": "python",
      "name": "python3"
    },
    "language_info": {
      "codemirror_mode": {
        "name": "ipython",
        "version": 3
      },
      "file_extension": ".py",
      "mimetype": "text/x-python",
      "name": "python",
      "nbconvert_exporter": "python",
      "pygments_lexer": "ipython3",
      "version": "3.8.5"
    },
    "colab": {
      "provenance": [],
      "collapsed_sections": [
        "KnzlPR21TiIg",
        "jSQUCtIcTk8Z",
        "LIMiZUzdTr12",
        "hvwwG7SVTukJ"
      ]
    }
  },
  "nbformat": 4,
  "nbformat_minor": 0
}